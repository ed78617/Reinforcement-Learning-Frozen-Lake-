{
 "cells": [
  {
   "cell_type": "markdown",
   "metadata": {},
   "source": [
    "# ELEN 6885 Reinforcement Learning coding assignment"
   ]
  },
  {
   "cell_type": "markdown",
   "metadata": {},
   "source": [
    "Your code should remain in the block marked by<br />\n",
    "\\############################<br />\n",
    "\\# YOUR CODE STARTS HERE<br />\n",
    "\\# YOUR CODE ENDS HERE<br />\n",
    "\\############################<br />\n",
    "Please don't edit anything outside the block."
   ]
  },
  {
   "cell_type": "code",
   "execution_count": 1,
   "metadata": {},
   "outputs": [],
   "source": [
    "import numpy as np\n",
    "import random\n",
    "import matplotlib.pyplot as plt\n",
    "import gym"
   ]
  },
  {
   "cell_type": "markdown",
   "metadata": {},
   "source": [
    "## 1. Incremental Implementation of Average\n",
    "We've finished the incremental implementation of average for you. Please call the function estimate with 1/step step size and fixed step size to compare the difference between this two on a simulated Bandit problem.<br />\n",
    "<span style=\"color:red\">(2 pts)</span>"
   ]
  },
  {
   "cell_type": "code",
   "execution_count": 2,
   "metadata": {},
   "outputs": [
    {
     "name": "stdout",
     "output_type": "stream",
     "text": [
      "RLalgs is a package containing Reinforcement Learning algorithms Epsilon-Greedy, Policy Iteration, Value Iteration, Q-Learning, and SARSA.\n"
     ]
    }
   ],
   "source": [
    "from RLalgs.utils import estimate\n",
    "random.seed(6885)\n",
    "numTimeStep = 10000\n",
    "q_h = np.zeros(numTimeStep + 1) # Q Value estimate with 1/step step size\n",
    "q_f = np.zeros(numTimeStep + 1) # Q value estimate with fixed step size\n",
    "FixedStepSize = 0.5 #A large number to exaggerate the difference\n",
    "for step in range(1, numTimeStep + 1):\n",
    "    if step < numTimeStep / 2:\n",
    "        r = random.gauss(mu = 1, sigma = 0.1)\n",
    "    else:\n",
    "        r = random.gauss(mu = 3, sigma = 0.1)    \n",
    "    #TIPS: Call function estimate defined in ./RLalgs/utils.py\n",
    "    ############################\n",
    "    # YOUR CODE STARTS HERE\n",
    "    q_f[step] = estimate(q_f[step-1], FixedStepSize, r)  # NewEstimate = OldEstimate + StepSize * (Target - OldEstimate)\n",
    "    \n",
    "    q_h[step] = estimate(q_h[step-1],1/step, r)\n",
    "    \n",
    "    # YOUR CODE ENDS HERE\n",
    "    ############################\n",
    "q_h = q_h[1:]\n",
    "q_f = q_f[1:]"
   ]
  },
  {
   "cell_type": "markdown",
   "metadata": {},
   "source": [
    "Plot the two Q value estimate (Please include a title, labels on both axes, and legends)<br />\n",
    "<span style=\"color:red\">(3 pts)</span>"
   ]
  },
  {
   "cell_type": "code",
   "execution_count": 3,
   "metadata": {
    "scrolled": false
   },
   "outputs": [
    {
     "data": {
      "text/plain": [
       "<function matplotlib.pyplot.show>"
      ]
     },
     "execution_count": 3,
     "metadata": {},
     "output_type": "execute_result"
    },
    {
     "data": {
      "image/png": "[encoded data removed]",
      "text/plain": [
       "<Figure size 432x288 with 1 Axes>"
      ]
     },
     "metadata": {},
     "output_type": "display_data"
    }
   ],
   "source": [
    "############################\n",
    "# YOUR CODE STARTS HERE\n",
    "x = np.arange(numTimeStep)\n",
    "y1 = np.array(q_f)\n",
    "y2 = np.array(q_h)\n",
    "plt.plot(x, y1, 'r', label = 'q_f')\n",
    "plt.plot(x, y2, 'g', label = 'q_h')\n",
    "plt.title(\"q_h & q_f\")\n",
    "plt.xlabel('step')\n",
    "plt.ylabel('Q value')\n",
    "plt.legend()\n",
    "plt.show\n",
    "# YOUR CODE ENDS HERE\n",
    "############################"
   ]
  },
  {
   "cell_type": "markdown",
   "metadata": {},
   "source": [
    "## 2. $\\epsilon$-Greedy for Exploration\n",
    "In Reinforcement Learning, we are always faced with the dilemma of exploration and exploitation. $\\epsilon$-Greedy is a trade-off between them. You are gonna implement Greedy and $\\epsilon$-Greedy. We combine these two policies in one function by treating Greedy as $\\epsilon$-Greedy where $\\epsilon = 0$. Edit the function epsilon_greedy in ./RLalgs/utils.py<br />\n",
    "<span style=\"color:red\">(5 pts)</span>"
   ]
  },
  {
   "cell_type": "code",
   "execution_count": 4,
   "metadata": {},
   "outputs": [
    {
     "name": "stdout",
     "output_type": "stream",
     "text": [
      "Values:\n",
      "[ 0.61264537  0.27923079 -0.84600857  0.05469574 -1.09990968]\n",
      "Greedy Choice = 0\n",
      "Epsilon-Greedy Choice = 0\n"
     ]
    }
   ],
   "source": [
    "from RLalgs.utils import epsilon_greedy\n",
    "np.random.seed(6885) #Set the seed to cancel the randomness\n",
    "q = np.random.normal(0, 1, size = 5)\n",
    "############################\n",
    "# YOUR CODE STARTS HERE\n",
    "greedy_action = epsilon_greedy(q,0,6885) #Use epsilon = 0 for Greedy\n",
    "e_greedy_action = epsilon_greedy(q, 0.1 ,6885) #Use epsilon = 0.1 and pass the parameter seed = 6885 to the function\n",
    "# YOUR CODE ENDS HERE\n",
    "############################\n",
    "print('Values:')\n",
    "print(q)\n",
    "print('Greedy Choice =', greedy_action)\n",
    "print('Epsilon-Greedy Choice =', e_greedy_action)"
   ]
  },
  {
   "cell_type": "markdown",
   "metadata": {},
   "source": [
    "You should get the following results.<br />\n",
    "Values:<br />\n",
    "\\[ 0.61264537  0.27923079 -0.84600857  0.05469574 -1.09990968\\]<br />\n",
    "Greedy Choice = 0<br />"
   ]
  },
  {
   "cell_type": "markdown",
   "metadata": {},
   "source": [
    "## 3. Frozen Lake Environment "
   ]
  },
  {
   "cell_type": "code",
   "execution_count": 5,
   "metadata": {},
   "outputs": [],
   "source": [
    "env = gym.make('FrozenLake-v0')"
   ]
  },
  {
   "cell_type": "markdown",
   "metadata": {},
   "source": [
    "### 3.1 Derive Q value from V value\n",
    "Edit function action_evaluation in ./RLalgs/utils.py<br />\n",
    "TIPS: $q(s, a)=\\sum_{s',r}p(s',r|s,a)(r+\\gamma v(s'))$<br />\n",
    "<span style=\"color:red\">(5 pts)</span>"
   ]
  },
  {
   "cell_type": "code",
   "execution_count": 6,
   "metadata": {},
   "outputs": [
    {
     "name": "stdout",
     "output_type": "stream",
     "text": [
      "Action values:\n",
      "[[1.         1.         1.         1.        ]\n",
      " [1.         1.         1.         1.        ]\n",
      " [1.         1.         1.         1.        ]\n",
      " [1.         1.         1.         1.        ]\n",
      " [1.         1.         1.         1.        ]\n",
      " [1.         1.         1.         1.        ]\n",
      " [1.         1.         1.         1.        ]\n",
      " [1.         1.         1.         1.        ]\n",
      " [1.         1.         1.         1.        ]\n",
      " [1.         1.         1.         1.        ]\n",
      " [1.         1.         1.         1.        ]\n",
      " [1.         1.         1.         1.        ]\n",
      " [1.         1.         1.         1.        ]\n",
      " [1.         1.         1.         1.        ]\n",
      " [1.         1.33333333 1.33333333 1.33333333]\n",
      " [1.         1.         1.         1.        ]]\n"
     ]
    }
   ],
   "source": [
    "from RLalgs.utils import action_evaluation\n",
    "v = np.ones(16)\n",
    "q = action_evaluation(env = env.env, gamma = 1, v = v)\n",
    "print('Action values:')\n",
    "print(q)"
   ]
  },
  {
   "cell_type": "markdown",
   "metadata": {},
   "source": [
    "You should get Q values all equal to one except at State 14"
   ]
  },
  {
   "cell_type": "markdown",
   "metadata": {},
   "source": [
    "Pseudo-codes of the following four algorithms can be found on Page 80, 83, 130, 131 of the Sutton's book"
   ]
  },
  {
   "cell_type": "markdown",
   "metadata": {},
   "source": [
    "### 3.2 Model-based RL algorithms"
   ]
  },
  {
   "cell_type": "code",
   "execution_count": 7,
   "metadata": {},
   "outputs": [],
   "source": [
    "from RLalgs.utils import action_evaluation, action_selection, render"
   ]
  },
  {
   "cell_type": "markdown",
   "metadata": {},
   "source": [
    "### 3.2.1 Policy Iteration\n",
    "Edit the function policy_iteration and relevant functions in ./RLalgs/pi.py to implement the Policy Iteration Algorithm<br />\n",
    "<span style=\"color:red\">(15 pts)</span>"
   ]
  },
  {
   "cell_type": "code",
   "execution_count": 8,
   "metadata": {
    "scrolled": false
   },
   "outputs": [
    {
     "name": "stdout",
     "output_type": "stream",
     "text": [
      "State values:\n",
      "[0.82352774 0.8235272  0.82352682 0.82352662 0.82352791 0.\n",
      " 0.52941063 0.         0.82352817 0.82352851 0.76470509 0.\n",
      " 0.         0.88235232 0.94117615 0.        ]\n",
      "Number of iterations = 7\n",
      "policy= [0 3 3 3 0 0 0 0 3 1 0 0 0 2 1 0]\n"
     ]
    }
   ],
   "source": [
    "from RLalgs.pi import policy_iteration\n",
    "V, policy, numIterations = policy_iteration(env = env.env, gamma = 1, max_iteration = 500, theta = 1e-7)\n",
    "print('State values:')\n",
    "print(V)\n",
    "print('Number of iterations =', numIterations)\n",
    "print('policy=',policy)"
   ]
  },
  {
   "cell_type": "code",
   "execution_count": 9,
   "metadata": {},
   "outputs": [],
   "source": [
    "#Uncomment and run the following to evaluate your result, comment them when you generate the pdf\n",
    "#Q = action_evaluation(env = env.env, gamma = 1, v = V)\n",
    "#policy_estimate = action_selection(Q)\n",
    "#render(env, policy_estimate)"
   ]
  },
  {
   "cell_type": "markdown",
   "metadata": {},
   "source": [
    "### 3.2.2 Value Iteration\n",
    "Edit the function value_iteration and relevant functions in ./RLalgs/vi.py to implement the Value Iteration Algorithm<br />\n",
    "<span style=\"color:red\">(10 pts)</span>"
   ]
  },
  {
   "cell_type": "code",
   "execution_count": 10,
   "metadata": {},
   "outputs": [
    {
     "name": "stdout",
     "output_type": "stream",
     "text": [
      "State values:\n",
      "[0.82352937 0.82352936 0.82352935 0.82352935 0.82352938 0.\n",
      " 0.52941174 0.         0.82352938 0.82352939 0.76470586 0.\n",
      " 0.         0.88235293 0.94117646 0.        ]\n",
      "policy= [0 3 3 3 0 0 0 0 3 1 0 0 0 2 1 0]\n",
      "Number of iterations to converge = 500\n"
     ]
    }
   ],
   "source": [
    "from RLalgs.vi import value_iteration\n",
    "V, policy, numIterations = value_iteration(env = env.env, gamma = 1, max_iteration = 500, theta = 1e-7)\n",
    "print('State values:')\n",
    "print(V)\n",
    "print(\"policy=\",policy)\n",
    "print('Number of iterations to converge =', numIterations)"
   ]
  },
  {
   "cell_type": "code",
   "execution_count": 11,
   "metadata": {},
   "outputs": [],
   "source": [
    "#Uncomment and run the following to evaluate your result, comment them when you generate the pdf\n",
    "#Q = action_evaluation(env = env.env, gamma = 1, v = V)\n",
    "#policy_estimate = action_selection(Q)\n",
    "#render(env, policy_estimate)"
   ]
  },
  {
   "cell_type": "markdown",
   "metadata": {},
   "source": [
    "### 3.3 Model free RL algorithms"
   ]
  },
  {
   "cell_type": "markdown",
   "metadata": {},
   "source": [
    "### 3.3.1 Q-Learning\n",
    "Edit the function QLearning in ./RLalgs/ql.py to implement the Q-Learning Algorithm<br />\n",
    "<span style=\"color:red\">(10 pts)</span>"
   ]
  },
  {
   "cell_type": "code",
   "execution_count": 12,
   "metadata": {
    "scrolled": false
   },
   "outputs": [
    {
     "name": "stdout",
     "output_type": "stream",
     "text": [
      "Action values:\n",
      "[[1.43452348e-03 2.72222769e-07 5.75504434e-04 9.06887601e-03]\n",
      " [1.59913676e-03 1.80072513e-03 1.59913676e-02 2.13837950e-03]\n",
      " [3.32318495e-02 3.73145948e-03 3.51286140e-03 3.87923169e-03]\n",
      " [8.55350055e-03 0.00000000e+00 0.00000000e+00 0.00000000e+00]\n",
      " [7.24612035e-03 0.00000000e+00 0.00000000e+00 0.00000000e+00]\n",
      " [0.00000000e+00 0.00000000e+00 0.00000000e+00 0.00000000e+00]\n",
      " [7.20885157e-02 8.02000095e-03 1.64004537e-02 0.00000000e+00]\n",
      " [0.00000000e+00 0.00000000e+00 0.00000000e+00 0.00000000e+00]\n",
      " [4.60134572e-05 8.72619908e-04 6.73699828e-05 2.43910877e-02]\n",
      " [1.44480413e-01 0.00000000e+00 2.16689672e-02 8.08912156e-03]\n",
      " [2.30938627e-01 3.35468807e-03 3.20260701e-02 0.00000000e+00]\n",
      " [0.00000000e+00 0.00000000e+00 0.00000000e+00 0.00000000e+00]\n",
      " [0.00000000e+00 0.00000000e+00 0.00000000e+00 0.00000000e+00]\n",
      " [3.09775505e-03 3.57366721e-01 5.05543600e-02 1.93001490e-03]\n",
      " [6.35035315e-02 2.28100690e-02 8.12660007e-03 5.50463824e-01]\n",
      " [0.00000000e+00 0.00000000e+00 0.00000000e+00 0.00000000e+00]]\n"
     ]
    }
   ],
   "source": [
    "from RLalgs.ql import QLearning\n",
    "Q = QLearning(env = env.env, num_episodes = 1000, gamma = 1, lr = 0.1, e = 0.1)\n",
    "print('Action values:')\n",
    "print(Q)"
   ]
  },
  {
   "cell_type": "code",
   "execution_count": 13,
   "metadata": {},
   "outputs": [],
   "source": [
    "#Uncomment the following to evaluate your result, comment them when you generate the pdf\n",
    "#policy_estimate = action_selection(Q)\n",
    "#render(env, policy_estimate)"
   ]
  },
  {
   "cell_type": "markdown",
   "metadata": {},
   "source": [
    "### 3.3.2 SARSA\n",
    "Edit the function SARSA in ./RLalgs/sarsa.py to implement the SARSA Algorithm.<br />\n",
    "<span style=\"color:red\">(10 pts)</span>"
   ]
  },
  {
   "cell_type": "code",
   "execution_count": 14,
   "metadata": {},
   "outputs": [
    {
     "name": "stdout",
     "output_type": "stream",
     "text": [
      "Action values:\n",
      "[[0.05348586 0.08894083 0.06708409 0.04168235]\n",
      " [0.02344606 0.03236604 0.02439455 0.0902641 ]\n",
      " [0.11915116 0.05809617 0.05089216 0.031892  ]\n",
      " [0.05018195 0.00125959 0.00283206 0.01101654]\n",
      " [0.11340085 0.04706459 0.02047752 0.03391938]\n",
      " [0.         0.         0.         0.        ]\n",
      " [0.18553917 0.04971762 0.06626115 0.01445863]\n",
      " [0.         0.         0.         0.        ]\n",
      " [0.03137216 0.13052527 0.04440841 0.04235066]\n",
      " [0.12459471 0.24768255 0.20492802 0.09448443]\n",
      " [0.34604885 0.1550556  0.13678342 0.10646277]\n",
      " [0.         0.         0.         0.        ]\n",
      " [0.         0.         0.         0.        ]\n",
      " [0.21148813 0.26793617 0.42458913 0.21879154]\n",
      " [0.29015239 0.73563196 0.4971948  0.47398173]\n",
      " [0.         0.         0.         0.        ]]\n"
     ]
    }
   ],
   "source": [
    "from RLalgs.sarsa import SARSA\n",
    "Q = SARSA(env = env.env, num_episodes = 2000, gamma = 1, lr = 0.1, e = 0.1)\n",
    "print('Action values:')\n",
    "print(Q)"
   ]
  },
  {
   "cell_type": "code",
   "execution_count": 15,
   "metadata": {},
   "outputs": [],
   "source": [
    "#Uncomment the following to evaluate your result, comment them when you generate the pdf\n",
    "#policy_estimate = action_selection(Q)\n",
    "#render(env, policy_estimate)"
   ]
  },
  {
   "cell_type": "markdown",
   "metadata": {},
   "source": [
    "### 3.3.1 Human<br>\n",
    "You can play this game if you are interested. See if you can get the frisbee either with or without the model."
   ]
  },
  {
   "cell_type": "code",
   "execution_count": 16,
   "metadata": {},
   "outputs": [],
   "source": [
    "from RLalgs.utils import human_play\n",
    "#Uncomment and run the following to play the game, comment it when you generate the pdf\n",
    "#human_play(env)"
   ]
  },
  {
   "cell_type": "markdown",
   "metadata": {},
   "source": [
    "## 4. Exploration VS. Exploitation\n",
    "Try to reproduce Figure 2.2 (the upper one is enough) of the Sutton's book based on the experiment described in Chapter 2.3<br />\n",
    "<span style=\"color:red\">Extra credit (3 pts)</span>"
   ]
  },
  {
   "cell_type": "code",
   "execution_count": 17,
   "metadata": {},
   "outputs": [],
   "source": [
    "# # Do the experiment and record average reward acquired in each time step\n",
    "# ############################\n",
    "# # YOUR CODE STARTS HERE\n",
    "# Returns the action-value for each action at the current time step\n",
    "def Qt(actions):\n",
    "    results = [0.0 if actions[i][1] == 0 else actions[i][0] / float(actions[i][1]) for i in range(len(actions))]\n",
    "    return results\n",
    "\n",
    "# The reward for selecting an action\n",
    "def get_reward(true_values, action_index):\n",
    "    estimated = np.random.normal(true_values[action_index], size=1)[0]\n",
    "    return estimated\n",
    "\n",
    "def epoch_greedy(k, epsilon, iterations):\n",
    "    true_values = np.random.normal(size=k)\n",
    "    # actions[i] is the ith action\n",
    "    # actions[i][0] is the sum of rewards for action i\n",
    "    # actions[i][1] is the no. of times action i has been taken\n",
    "    actions = [[0.0, 0] for j in range(k)]\n",
    "    rewards = []\n",
    "    for it in range(iterations):\n",
    "        prob =  np.random.rand(1)  #random.random()\n",
    "        if prob > epsilon:\n",
    "            action_index = np.argmax(Qt(actions))\n",
    "        else:\n",
    "            action_index = np.random.randint(0, k)            \n",
    "        reward = get_reward(true_values, action_index)\n",
    "        # Update\n",
    "        rewards.append(reward)\n",
    "        action = actions[action_index]\n",
    "        action[0] += reward\n",
    "        action[1] += 1\n",
    "    return rewards\n",
    "# Returns the mean reward for each iteration across\n",
    "# epochs executions\n",
    "def run_experiment(k, epsilon, iters, epochs):\n",
    "    rewards = []\n",
    "    for i in range(epochs):\n",
    "        rewards.append(epoch_greedy(k, epsilon, iters))\n",
    "    # Compute the mean reward for each iteration\n",
    "    means = np.mean(np.array(rewards), axis=0)\n",
    "    return means\n",
    "# # YOUR CODE ENDS HERE\n",
    "# ############################"
   ]
  },
  {
   "cell_type": "code",
   "execution_count": 18,
   "metadata": {},
   "outputs": [
    {
     "data": {
      "image/png": "[encoded data removed]",
      "text/plain": [
       "<Figure size 432x288 with 1 Axes>"
      ]
     },
     "metadata": {},
     "output_type": "display_data"
    }
   ],
   "source": [
    "# Plot the average reward\n",
    "############################\n",
    "# YOUR CODE STARTS HERE\n",
    "e_0_01 = run_experiment(10, 0.01, 1000, 2000)\n",
    "e_0_1 = run_experiment(10, 0.1, 1000, 2000)\n",
    "e_0 = run_experiment(10, 0, 1000, 2000)\n",
    "x_axis = range(1, 1001)\n",
    "plt.plot(x_axis, e_0_01, c='blue', label='ε = 0.01')\n",
    "plt.plot(x_axis, e_0_1, c='red', label='ε = 0.1')\n",
    "plt.plot(x_axis, e_0, c='green', label='ε = 0')\n",
    "plt.xlabel('Steps')\n",
    "plt.ylabel('Average reward')\n",
    "plt.legend()\n",
    "plt.show()\n",
    "# YOUR CODE ENDS HERE\n",
    "############################"
   ]
  },
  {
   "cell_type": "markdown",
   "metadata": {},
   "source": [
    "You should get a result that Greedy behaves well at the beginning, but then surpassed by $\\epsilon$-Greedy with $\\epsilon=0.1$"
   ]
  }
 ],
 "metadata": {
  "kernelspec": {
   "display_name": "Python 3",
   "language": "python",
   "name": "python3"
  },
  "language_info": {
   "codemirror_mode": {
    "name": "ipython",
    "version": 3
   },
   "file_extension": ".py",
   "mimetype": "text/x-python",
   "name": "python",
   "nbconvert_exporter": "python",
   "pygments_lexer": "ipython3",
   "version": "3.6.4"
  }
 },
 "nbformat": 4,
 "nbformat_minor": 2
}
